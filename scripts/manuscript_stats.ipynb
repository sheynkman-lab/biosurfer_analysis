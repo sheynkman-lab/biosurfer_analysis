{
 "cells": [
  {
   "cell_type": "code",
   "execution_count": 1,
   "metadata": {},
   "outputs": [
    {
     "ename": "FileNotFoundError",
     "evalue": "[Errno 2] No such file or directory: '../B_hybrid_aln_wtc11_v42/pblocks.tsv'",
     "output_type": "error",
     "traceback": [
      "\u001b[0;31m---------------------------------------------------------------------------\u001b[0m",
      "\u001b[0;31mFileNotFoundError\u001b[0m                         Traceback (most recent call last)",
      "Cell \u001b[0;32mIn[1], line 10\u001b[0m\n\u001b[1;32m      8\u001b[0m \u001b[38;5;28;01mimport\u001b[39;00m \u001b[38;5;21;01mnumpy\u001b[39;00m \u001b[38;5;28;01mas\u001b[39;00m \u001b[38;5;21;01mnp\u001b[39;00m\n\u001b[1;32m      9\u001b[0m \u001b[38;5;28;01mimport\u001b[39;00m \u001b[38;5;21;01mcsv\u001b[39;00m\n\u001b[0;32m---> 10\u001b[0m \u001b[38;5;28;01mfrom\u001b[39;00m \u001b[38;5;21;01mplot_config\u001b[39;00m \u001b[38;5;28;01mimport\u001b[39;00m pblocks, NTERM_CLASSES, NTERM_COLORS, CTERM_CLASSES\n",
      "File \u001b[0;32m~/Desktop/dcoop/Python/biosurfer_analysis/scripts/plot_config.py:78\u001b[0m\n\u001b[1;32m     73\u001b[0m CTERM_PALETTE \u001b[38;5;241m=\u001b[39m [cterm_splice_palette[\u001b[38;5;241m0\u001b[39m], cterm_frameshift_palette[\u001b[38;5;241m0\u001b[39m]]\n\u001b[1;32m     75\u001b[0m \u001b[38;5;66;03m# # GENCODE v42\u001b[39;00m\n\u001b[1;32m     76\u001b[0m \u001b[38;5;66;03m#pblocks = pd.read_csv('../B_hybrid_aln_gencode_v42/pblocks.tsv', sep='\\t')\u001b[39;00m\n\u001b[1;32m     77\u001b[0m \u001b[38;5;66;03m# # WTC11\u001b[39;00m\n\u001b[0;32m---> 78\u001b[0m pblocks \u001b[38;5;241m=\u001b[39m \u001b[43mpd\u001b[49m\u001b[38;5;241;43m.\u001b[39;49m\u001b[43mread_csv\u001b[49m\u001b[43m(\u001b[49m\u001b[38;5;124;43m'\u001b[39;49m\u001b[38;5;124;43m../B_hybrid_aln_wtc11_v42/pblocks.tsv\u001b[39;49m\u001b[38;5;124;43m'\u001b[39;49m\u001b[43m,\u001b[49m\u001b[43m \u001b[49m\u001b[43msep\u001b[49m\u001b[38;5;241;43m=\u001b[39;49m\u001b[38;5;124;43m'\u001b[39;49m\u001b[38;5;130;43;01m\\t\u001b[39;49;00m\u001b[38;5;124;43m'\u001b[39;49m\u001b[43m)\u001b[49m\n",
      "File \u001b[0;32m~/anaconda3/lib/python3.10/site-packages/pandas/util/_decorators.py:211\u001b[0m, in \u001b[0;36mdeprecate_kwarg.<locals>._deprecate_kwarg.<locals>.wrapper\u001b[0;34m(*args, **kwargs)\u001b[0m\n\u001b[1;32m    209\u001b[0m     \u001b[38;5;28;01melse\u001b[39;00m:\n\u001b[1;32m    210\u001b[0m         kwargs[new_arg_name] \u001b[38;5;241m=\u001b[39m new_arg_value\n\u001b[0;32m--> 211\u001b[0m \u001b[38;5;28;01mreturn\u001b[39;00m \u001b[43mfunc\u001b[49m\u001b[43m(\u001b[49m\u001b[38;5;241;43m*\u001b[39;49m\u001b[43margs\u001b[49m\u001b[43m,\u001b[49m\u001b[43m \u001b[49m\u001b[38;5;241;43m*\u001b[39;49m\u001b[38;5;241;43m*\u001b[39;49m\u001b[43mkwargs\u001b[49m\u001b[43m)\u001b[49m\n",
      "File \u001b[0;32m~/anaconda3/lib/python3.10/site-packages/pandas/util/_decorators.py:331\u001b[0m, in \u001b[0;36mdeprecate_nonkeyword_arguments.<locals>.decorate.<locals>.wrapper\u001b[0;34m(*args, **kwargs)\u001b[0m\n\u001b[1;32m    325\u001b[0m \u001b[38;5;28;01mif\u001b[39;00m \u001b[38;5;28mlen\u001b[39m(args) \u001b[38;5;241m>\u001b[39m num_allow_args:\n\u001b[1;32m    326\u001b[0m     warnings\u001b[38;5;241m.\u001b[39mwarn(\n\u001b[1;32m    327\u001b[0m         msg\u001b[38;5;241m.\u001b[39mformat(arguments\u001b[38;5;241m=\u001b[39m_format_argument_list(allow_args)),\n\u001b[1;32m    328\u001b[0m         \u001b[38;5;167;01mFutureWarning\u001b[39;00m,\n\u001b[1;32m    329\u001b[0m         stacklevel\u001b[38;5;241m=\u001b[39mfind_stack_level(),\n\u001b[1;32m    330\u001b[0m     )\n\u001b[0;32m--> 331\u001b[0m \u001b[38;5;28;01mreturn\u001b[39;00m \u001b[43mfunc\u001b[49m\u001b[43m(\u001b[49m\u001b[38;5;241;43m*\u001b[39;49m\u001b[43margs\u001b[49m\u001b[43m,\u001b[49m\u001b[43m \u001b[49m\u001b[38;5;241;43m*\u001b[39;49m\u001b[38;5;241;43m*\u001b[39;49m\u001b[43mkwargs\u001b[49m\u001b[43m)\u001b[49m\n",
      "File \u001b[0;32m~/anaconda3/lib/python3.10/site-packages/pandas/io/parsers/readers.py:950\u001b[0m, in \u001b[0;36mread_csv\u001b[0;34m(filepath_or_buffer, sep, delimiter, header, names, index_col, usecols, squeeze, prefix, mangle_dupe_cols, dtype, engine, converters, true_values, false_values, skipinitialspace, skiprows, skipfooter, nrows, na_values, keep_default_na, na_filter, verbose, skip_blank_lines, parse_dates, infer_datetime_format, keep_date_col, date_parser, dayfirst, cache_dates, iterator, chunksize, compression, thousands, decimal, lineterminator, quotechar, quoting, doublequote, escapechar, comment, encoding, encoding_errors, dialect, error_bad_lines, warn_bad_lines, on_bad_lines, delim_whitespace, low_memory, memory_map, float_precision, storage_options)\u001b[0m\n\u001b[1;32m    935\u001b[0m kwds_defaults \u001b[38;5;241m=\u001b[39m _refine_defaults_read(\n\u001b[1;32m    936\u001b[0m     dialect,\n\u001b[1;32m    937\u001b[0m     delimiter,\n\u001b[0;32m   (...)\u001b[0m\n\u001b[1;32m    946\u001b[0m     defaults\u001b[38;5;241m=\u001b[39m{\u001b[38;5;124m\"\u001b[39m\u001b[38;5;124mdelimiter\u001b[39m\u001b[38;5;124m\"\u001b[39m: \u001b[38;5;124m\"\u001b[39m\u001b[38;5;124m,\u001b[39m\u001b[38;5;124m\"\u001b[39m},\n\u001b[1;32m    947\u001b[0m )\n\u001b[1;32m    948\u001b[0m kwds\u001b[38;5;241m.\u001b[39mupdate(kwds_defaults)\n\u001b[0;32m--> 950\u001b[0m \u001b[38;5;28;01mreturn\u001b[39;00m \u001b[43m_read\u001b[49m\u001b[43m(\u001b[49m\u001b[43mfilepath_or_buffer\u001b[49m\u001b[43m,\u001b[49m\u001b[43m \u001b[49m\u001b[43mkwds\u001b[49m\u001b[43m)\u001b[49m\n",
      "File \u001b[0;32m~/anaconda3/lib/python3.10/site-packages/pandas/io/parsers/readers.py:605\u001b[0m, in \u001b[0;36m_read\u001b[0;34m(filepath_or_buffer, kwds)\u001b[0m\n\u001b[1;32m    602\u001b[0m _validate_names(kwds\u001b[38;5;241m.\u001b[39mget(\u001b[38;5;124m\"\u001b[39m\u001b[38;5;124mnames\u001b[39m\u001b[38;5;124m\"\u001b[39m, \u001b[38;5;28;01mNone\u001b[39;00m))\n\u001b[1;32m    604\u001b[0m \u001b[38;5;66;03m# Create the parser.\u001b[39;00m\n\u001b[0;32m--> 605\u001b[0m parser \u001b[38;5;241m=\u001b[39m \u001b[43mTextFileReader\u001b[49m\u001b[43m(\u001b[49m\u001b[43mfilepath_or_buffer\u001b[49m\u001b[43m,\u001b[49m\u001b[43m \u001b[49m\u001b[38;5;241;43m*\u001b[39;49m\u001b[38;5;241;43m*\u001b[39;49m\u001b[43mkwds\u001b[49m\u001b[43m)\u001b[49m\n\u001b[1;32m    607\u001b[0m \u001b[38;5;28;01mif\u001b[39;00m chunksize \u001b[38;5;129;01mor\u001b[39;00m iterator:\n\u001b[1;32m    608\u001b[0m     \u001b[38;5;28;01mreturn\u001b[39;00m parser\n",
      "File \u001b[0;32m~/anaconda3/lib/python3.10/site-packages/pandas/io/parsers/readers.py:1442\u001b[0m, in \u001b[0;36mTextFileReader.__init__\u001b[0;34m(self, f, engine, **kwds)\u001b[0m\n\u001b[1;32m   1439\u001b[0m     \u001b[38;5;28mself\u001b[39m\u001b[38;5;241m.\u001b[39moptions[\u001b[38;5;124m\"\u001b[39m\u001b[38;5;124mhas_index_names\u001b[39m\u001b[38;5;124m\"\u001b[39m] \u001b[38;5;241m=\u001b[39m kwds[\u001b[38;5;124m\"\u001b[39m\u001b[38;5;124mhas_index_names\u001b[39m\u001b[38;5;124m\"\u001b[39m]\n\u001b[1;32m   1441\u001b[0m \u001b[38;5;28mself\u001b[39m\u001b[38;5;241m.\u001b[39mhandles: IOHandles \u001b[38;5;241m|\u001b[39m \u001b[38;5;28;01mNone\u001b[39;00m \u001b[38;5;241m=\u001b[39m \u001b[38;5;28;01mNone\u001b[39;00m\n\u001b[0;32m-> 1442\u001b[0m \u001b[38;5;28mself\u001b[39m\u001b[38;5;241m.\u001b[39m_engine \u001b[38;5;241m=\u001b[39m \u001b[38;5;28;43mself\u001b[39;49m\u001b[38;5;241;43m.\u001b[39;49m\u001b[43m_make_engine\u001b[49m\u001b[43m(\u001b[49m\u001b[43mf\u001b[49m\u001b[43m,\u001b[49m\u001b[43m \u001b[49m\u001b[38;5;28;43mself\u001b[39;49m\u001b[38;5;241;43m.\u001b[39;49m\u001b[43mengine\u001b[49m\u001b[43m)\u001b[49m\n",
      "File \u001b[0;32m~/anaconda3/lib/python3.10/site-packages/pandas/io/parsers/readers.py:1735\u001b[0m, in \u001b[0;36mTextFileReader._make_engine\u001b[0;34m(self, f, engine)\u001b[0m\n\u001b[1;32m   1733\u001b[0m     \u001b[38;5;28;01mif\u001b[39;00m \u001b[38;5;124m\"\u001b[39m\u001b[38;5;124mb\u001b[39m\u001b[38;5;124m\"\u001b[39m \u001b[38;5;129;01mnot\u001b[39;00m \u001b[38;5;129;01min\u001b[39;00m mode:\n\u001b[1;32m   1734\u001b[0m         mode \u001b[38;5;241m+\u001b[39m\u001b[38;5;241m=\u001b[39m \u001b[38;5;124m\"\u001b[39m\u001b[38;5;124mb\u001b[39m\u001b[38;5;124m\"\u001b[39m\n\u001b[0;32m-> 1735\u001b[0m \u001b[38;5;28mself\u001b[39m\u001b[38;5;241m.\u001b[39mhandles \u001b[38;5;241m=\u001b[39m \u001b[43mget_handle\u001b[49m\u001b[43m(\u001b[49m\n\u001b[1;32m   1736\u001b[0m \u001b[43m    \u001b[49m\u001b[43mf\u001b[49m\u001b[43m,\u001b[49m\n\u001b[1;32m   1737\u001b[0m \u001b[43m    \u001b[49m\u001b[43mmode\u001b[49m\u001b[43m,\u001b[49m\n\u001b[1;32m   1738\u001b[0m \u001b[43m    \u001b[49m\u001b[43mencoding\u001b[49m\u001b[38;5;241;43m=\u001b[39;49m\u001b[38;5;28;43mself\u001b[39;49m\u001b[38;5;241;43m.\u001b[39;49m\u001b[43moptions\u001b[49m\u001b[38;5;241;43m.\u001b[39;49m\u001b[43mget\u001b[49m\u001b[43m(\u001b[49m\u001b[38;5;124;43m\"\u001b[39;49m\u001b[38;5;124;43mencoding\u001b[39;49m\u001b[38;5;124;43m\"\u001b[39;49m\u001b[43m,\u001b[49m\u001b[43m \u001b[49m\u001b[38;5;28;43;01mNone\u001b[39;49;00m\u001b[43m)\u001b[49m\u001b[43m,\u001b[49m\n\u001b[1;32m   1739\u001b[0m \u001b[43m    \u001b[49m\u001b[43mcompression\u001b[49m\u001b[38;5;241;43m=\u001b[39;49m\u001b[38;5;28;43mself\u001b[39;49m\u001b[38;5;241;43m.\u001b[39;49m\u001b[43moptions\u001b[49m\u001b[38;5;241;43m.\u001b[39;49m\u001b[43mget\u001b[49m\u001b[43m(\u001b[49m\u001b[38;5;124;43m\"\u001b[39;49m\u001b[38;5;124;43mcompression\u001b[39;49m\u001b[38;5;124;43m\"\u001b[39;49m\u001b[43m,\u001b[49m\u001b[43m \u001b[49m\u001b[38;5;28;43;01mNone\u001b[39;49;00m\u001b[43m)\u001b[49m\u001b[43m,\u001b[49m\n\u001b[1;32m   1740\u001b[0m \u001b[43m    \u001b[49m\u001b[43mmemory_map\u001b[49m\u001b[38;5;241;43m=\u001b[39;49m\u001b[38;5;28;43mself\u001b[39;49m\u001b[38;5;241;43m.\u001b[39;49m\u001b[43moptions\u001b[49m\u001b[38;5;241;43m.\u001b[39;49m\u001b[43mget\u001b[49m\u001b[43m(\u001b[49m\u001b[38;5;124;43m\"\u001b[39;49m\u001b[38;5;124;43mmemory_map\u001b[39;49m\u001b[38;5;124;43m\"\u001b[39;49m\u001b[43m,\u001b[49m\u001b[43m \u001b[49m\u001b[38;5;28;43;01mFalse\u001b[39;49;00m\u001b[43m)\u001b[49m\u001b[43m,\u001b[49m\n\u001b[1;32m   1741\u001b[0m \u001b[43m    \u001b[49m\u001b[43mis_text\u001b[49m\u001b[38;5;241;43m=\u001b[39;49m\u001b[43mis_text\u001b[49m\u001b[43m,\u001b[49m\n\u001b[1;32m   1742\u001b[0m \u001b[43m    \u001b[49m\u001b[43merrors\u001b[49m\u001b[38;5;241;43m=\u001b[39;49m\u001b[38;5;28;43mself\u001b[39;49m\u001b[38;5;241;43m.\u001b[39;49m\u001b[43moptions\u001b[49m\u001b[38;5;241;43m.\u001b[39;49m\u001b[43mget\u001b[49m\u001b[43m(\u001b[49m\u001b[38;5;124;43m\"\u001b[39;49m\u001b[38;5;124;43mencoding_errors\u001b[39;49m\u001b[38;5;124;43m\"\u001b[39;49m\u001b[43m,\u001b[49m\u001b[43m \u001b[49m\u001b[38;5;124;43m\"\u001b[39;49m\u001b[38;5;124;43mstrict\u001b[39;49m\u001b[38;5;124;43m\"\u001b[39;49m\u001b[43m)\u001b[49m\u001b[43m,\u001b[49m\n\u001b[1;32m   1743\u001b[0m \u001b[43m    \u001b[49m\u001b[43mstorage_options\u001b[49m\u001b[38;5;241;43m=\u001b[39;49m\u001b[38;5;28;43mself\u001b[39;49m\u001b[38;5;241;43m.\u001b[39;49m\u001b[43moptions\u001b[49m\u001b[38;5;241;43m.\u001b[39;49m\u001b[43mget\u001b[49m\u001b[43m(\u001b[49m\u001b[38;5;124;43m\"\u001b[39;49m\u001b[38;5;124;43mstorage_options\u001b[39;49m\u001b[38;5;124;43m\"\u001b[39;49m\u001b[43m,\u001b[49m\u001b[43m \u001b[49m\u001b[38;5;28;43;01mNone\u001b[39;49;00m\u001b[43m)\u001b[49m\u001b[43m,\u001b[49m\n\u001b[1;32m   1744\u001b[0m \u001b[43m\u001b[49m\u001b[43m)\u001b[49m\n\u001b[1;32m   1745\u001b[0m \u001b[38;5;28;01massert\u001b[39;00m \u001b[38;5;28mself\u001b[39m\u001b[38;5;241m.\u001b[39mhandles \u001b[38;5;129;01mis\u001b[39;00m \u001b[38;5;129;01mnot\u001b[39;00m \u001b[38;5;28;01mNone\u001b[39;00m\n\u001b[1;32m   1746\u001b[0m f \u001b[38;5;241m=\u001b[39m \u001b[38;5;28mself\u001b[39m\u001b[38;5;241m.\u001b[39mhandles\u001b[38;5;241m.\u001b[39mhandle\n",
      "File \u001b[0;32m~/anaconda3/lib/python3.10/site-packages/pandas/io/common.py:856\u001b[0m, in \u001b[0;36mget_handle\u001b[0;34m(path_or_buf, mode, encoding, compression, memory_map, is_text, errors, storage_options)\u001b[0m\n\u001b[1;32m    851\u001b[0m \u001b[38;5;28;01melif\u001b[39;00m \u001b[38;5;28misinstance\u001b[39m(handle, \u001b[38;5;28mstr\u001b[39m):\n\u001b[1;32m    852\u001b[0m     \u001b[38;5;66;03m# Check whether the filename is to be opened in binary mode.\u001b[39;00m\n\u001b[1;32m    853\u001b[0m     \u001b[38;5;66;03m# Binary mode does not support 'encoding' and 'newline'.\u001b[39;00m\n\u001b[1;32m    854\u001b[0m     \u001b[38;5;28;01mif\u001b[39;00m ioargs\u001b[38;5;241m.\u001b[39mencoding \u001b[38;5;129;01mand\u001b[39;00m \u001b[38;5;124m\"\u001b[39m\u001b[38;5;124mb\u001b[39m\u001b[38;5;124m\"\u001b[39m \u001b[38;5;129;01mnot\u001b[39;00m \u001b[38;5;129;01min\u001b[39;00m ioargs\u001b[38;5;241m.\u001b[39mmode:\n\u001b[1;32m    855\u001b[0m         \u001b[38;5;66;03m# Encoding\u001b[39;00m\n\u001b[0;32m--> 856\u001b[0m         handle \u001b[38;5;241m=\u001b[39m \u001b[38;5;28;43mopen\u001b[39;49m\u001b[43m(\u001b[49m\n\u001b[1;32m    857\u001b[0m \u001b[43m            \u001b[49m\u001b[43mhandle\u001b[49m\u001b[43m,\u001b[49m\n\u001b[1;32m    858\u001b[0m \u001b[43m            \u001b[49m\u001b[43mioargs\u001b[49m\u001b[38;5;241;43m.\u001b[39;49m\u001b[43mmode\u001b[49m\u001b[43m,\u001b[49m\n\u001b[1;32m    859\u001b[0m \u001b[43m            \u001b[49m\u001b[43mencoding\u001b[49m\u001b[38;5;241;43m=\u001b[39;49m\u001b[43mioargs\u001b[49m\u001b[38;5;241;43m.\u001b[39;49m\u001b[43mencoding\u001b[49m\u001b[43m,\u001b[49m\n\u001b[1;32m    860\u001b[0m \u001b[43m            \u001b[49m\u001b[43merrors\u001b[49m\u001b[38;5;241;43m=\u001b[39;49m\u001b[43merrors\u001b[49m\u001b[43m,\u001b[49m\n\u001b[1;32m    861\u001b[0m \u001b[43m            \u001b[49m\u001b[43mnewline\u001b[49m\u001b[38;5;241;43m=\u001b[39;49m\u001b[38;5;124;43m\"\u001b[39;49m\u001b[38;5;124;43m\"\u001b[39;49m\u001b[43m,\u001b[49m\n\u001b[1;32m    862\u001b[0m \u001b[43m        \u001b[49m\u001b[43m)\u001b[49m\n\u001b[1;32m    863\u001b[0m     \u001b[38;5;28;01melse\u001b[39;00m:\n\u001b[1;32m    864\u001b[0m         \u001b[38;5;66;03m# Binary mode\u001b[39;00m\n\u001b[1;32m    865\u001b[0m         handle \u001b[38;5;241m=\u001b[39m \u001b[38;5;28mopen\u001b[39m(handle, ioargs\u001b[38;5;241m.\u001b[39mmode)\n",
      "\u001b[0;31mFileNotFoundError\u001b[0m: [Errno 2] No such file or directory: '../B_hybrid_aln_wtc11_v42/pblocks.tsv'"
     ]
    }
   ],
   "source": [
    "# %% Importing libraries\n",
    "from pathlib import Path\n",
    "from re import M\n",
    "\n",
    "import matplotlib.pyplot as plt\n",
    "import pandas as pd\n",
    "import seaborn as sns\n",
    "import numpy as np\n",
    "import csv\n",
    "from plot_config import pblocks, NTERM_CLASSES, NTERM_COLORS, CTERM_CLASSES"
   ]
  },
  {
   "cell_type": "markdown",
   "metadata": {},
   "source": [
    "## Global characterization of altered protein regions in the human annotation (GENCODE)\n",
    "\n",
    "Dataset -> Gencode version 42 basic"
   ]
  },
  {
   "cell_type": "code",
   "execution_count": 142,
   "metadata": {},
   "outputs": [
    {
     "name": "stdout",
     "output_type": "stream",
     "text": [
      "35083\n"
     ]
    }
   ],
   "source": [
    "# Reference-alternative protein isoform pairs in database\n",
    "ref_alt_pair_unique = pblocks[['anchor','other']].drop_duplicates()\n",
    "print(len((ref_alt_pair_unique)))\n",
    "\n",
    "# Number of genes\n",
    "# Value obtained from SQLite db = 20030"
   ]
  },
  {
   "cell_type": "markdown",
   "metadata": {},
   "source": [
    "### Altered protein regions across the proteome"
   ]
  },
  {
   "cell_type": "code",
   "execution_count": null,
   "metadata": {},
   "outputs": [],
   "source": [
    "# Total altered protein regions\n",
    "apr = len(pblocks)\n",
    "print(apr)\n",
    "\n",
    "# Average altered regions per isoform\n",
    "avg = (apr/len(ref_alt_pair_unique))\n",
    "print(avg)\n",
    "\n",
    "# Isoform pairs contain a single altered region\n",
    "print((pblocks.groupby(['anchor', 'other']).size() == 1).sum())\n",
    "\n",
    "# Total number of isoform pairs\n",
    "print(len((pblocks.groupby(['anchor', 'other']))))\n",
    "\n",
    "# alternative isoforms contain two or more distinct regions\n",
    "print((pblocks.groupby(['anchor', 'other']).size() > 1).sum())\n",
    "\n",
    "# isoform pairs exhibited an extreme number of distinct altered regions\n",
    "result = pblocks.groupby(['anchor', 'other']).size()\n",
    "for name, group in result.items():\n",
    "    if group > 10:\n",
    "        print(name[0])\n",
    "\n",
    "# The median number of affected amino acids\n",
    "\n",
    "aa_loss = pblocks[pblocks['pblock_category'].isin({'DELETION', 'SUBSTITUTION'})].reset_index()[['pblock_category', 'aa_loss']]\n",
    "aa_loss['pblock_category'].replace('SUBSTITUTION', 'SUBSTITUTION (reference)', inplace=True)\n",
    "aa_loss.rename(columns={'aa_loss': 'length'}, inplace=True)\n",
    "aa_gain = pblocks[pblocks['pblock_category'].isin({'INSERTION', 'SUBSTITUTION'})].reset_index()[['pblock_category', 'aa_gain']]\n",
    "aa_gain['pblock_category'].replace('SUBSTITUTION', 'SUBSTITUTION (alternative)', inplace=True)\n",
    "aa_gain.rename(columns={'aa_gain': 'length'}, inplace=True)\n",
    "affected_lengths = pd.concat([aa_loss, aa_gain])\n",
    "data = affected_lengths[affected_lengths['pblock_category'] != 'SUBSTITUTION (alternative)']\n",
    "print(data.median())\n",
    "\n",
    "# the first and third quartiles \n",
    "print(data.describe())\n",
    "\n",
    "# Insertions, substituions and deletions altered protein region count\n",
    "pblocks['pblock_category'].value_counts()"
   ]
  },
  {
   "cell_type": "markdown",
   "metadata": {},
   "source": [
    "### N-terminal alterations"
   ]
  },
  {
   "cell_type": "code",
   "execution_count": null,
   "metadata": {},
   "outputs": [],
   "source": [
    "def get_section(nterm, cterm):\n",
    "    if nterm and cterm:\n",
    "        return 'Full-length'\n",
    "    elif nterm:\n",
    "        return 'N-terminal'\n",
    "    elif cterm:\n",
    "        return 'C-terminal'\n",
    "    else:\n",
    "        return 'Internal'\n",
    "pblocks['protein_section'] = list(map(get_section, ~pblocks['nterm'].isna(), ~pblocks['cterm'].isna()))\n",
    "pblock_sections = pblocks['protein_section'].value_counts()\n",
    "print(pblock_sections)"
   ]
  },
  {
   "cell_type": "markdown",
   "metadata": {},
   "source": [
    "#### Transcriptional and post-transcriptional mechanisms by which different start ATGs are used"
   ]
  },
  {
   "cell_type": "code",
   "execution_count": null,
   "metadata": {},
   "outputs": [],
   "source": [
    "# Mutually exclusive start, shared downstream start counts\n",
    "print(pblocks['nterm'].value_counts())\n",
    "\n",
    "from scipy.stats import mannwhitneyu\n",
    "mxs_rel_lengths = nterm_pblocks[nterm_pblocks['nterm'] == 'Mutually exclusive starts']['anchor_relative_length_change'].abs()\n",
    "sds_rel_lengths = nterm_pblocks[nterm_pblocks['nterm'] == 'Shared downstream start']['anchor_relative_length_change'].abs()\n",
    "\n",
    "# Mann-Whitney U tests\n",
    "mannwhitneyu(mxs_rel_lengths, sds_rel_lengths)"
   ]
  },
  {
   "cell_type": "markdown",
   "metadata": {},
   "source": [
    "#### Translational and co-translational regulation that leads to differential N-terminal usage\n"
   ]
  },
  {
   "cell_type": "code",
   "execution_count": null,
   "metadata": {},
   "outputs": [],
   "source": [
    "print(pblocks['nterm'].value_counts())\n"
   ]
  },
  {
   "cell_type": "markdown",
   "metadata": {},
   "source": [
    "### Characterization of splicing patterns underlying internal protein region differences\n"
   ]
  },
  {
   "cell_type": "markdown",
   "metadata": {},
   "source": [
    "#### Simple and compound splicing events"
   ]
  },
  {
   "cell_type": "code",
   "execution_count": null,
   "metadata": {},
   "outputs": [],
   "source": [
    "internal_pblocks = (\n",
    "    pblocks[pblocks['internal']].\n",
    "    drop(columns=[col for col in pblocks.columns if 'start' in col or 'stop' in col]).\n",
    "    copy()\n",
    ")\n",
    "# convert string repr back to Python object\n",
    "internal_pblocks['tblock_events'] = internal_pblocks['tblock_events'].map(eval)\n",
    "internal_pblocks['events'] = internal_pblocks['events'].map(eval)  \n",
    "\n",
    "internal_subcats = pd.DataFrame(\n",
    "    {\n",
    "        'Frameshift': internal_pblocks['frameshift'],\n",
    "        'Intron': internal_pblocks['tblock_events'].isin({('I',), ('i',)}),\n",
    "        'Alt. donor': internal_pblocks['tblock_events'].isin({('D',), ('d',)}),\n",
    "        'Alt. acceptor': internal_pblocks['tblock_events'].isin({('A',), ('a',)}),\n",
    "        'Single exon': internal_pblocks['tblock_events'].isin({('E',), ('e',)}),\n",
    "        'Compound': [True for _ in internal_pblocks.index]\n",
    "    }\n",
    ")\n",
    "subcat_order = ('Intron', 'Alt. donor', 'Alt. acceptor', 'Single exon', 'Compound', 'Frameshift')\n",
    "internal_pblocks['splice_event'] = internal_subcats.idxmax(axis=1).astype(pd.CategoricalDtype(subcat_order, ordered=True))\n"
   ]
  },
  {
   "cell_type": "code",
   "execution_count": null,
   "metadata": {},
   "outputs": [],
   "source": [
    "internal_pblocks['splice_event'].value_counts()\n"
   ]
  },
  {
   "cell_type": "code",
   "execution_count": null,
   "metadata": {},
   "outputs": [],
   "source": [
    "df = internal_pblocks[internal_pblocks['splice_event']== 'Single exon']"
   ]
  },
  {
   "cell_type": "code",
   "execution_count": null,
   "metadata": {},
   "outputs": [],
   "source": [
    "internal_pblocks.query(\"pblock_category == 'DELETION'\").sum()"
   ]
  },
  {
   "cell_type": "code",
   "execution_count": null,
   "metadata": {},
   "outputs": [],
   "source": [
    "df.query(\"pblock_category == 'DELETION'\").sum()"
   ]
  },
  {
   "cell_type": "code",
   "execution_count": null,
   "metadata": {},
   "outputs": [],
   "source": [
    "internal_pblocks.sum()"
   ]
  },
  {
   "cell_type": "markdown",
   "metadata": {},
   "source": [
    "### C-terminal alterations\n"
   ]
  },
  {
   "cell_type": "code",
   "execution_count": null,
   "metadata": {},
   "outputs": [],
   "source": [
    "print(pblock_sections)"
   ]
  },
  {
   "cell_type": "markdown",
   "metadata": {},
   "source": [
    "#### Characterization of direct splice-driven altered C-termini patterns"
   ]
  },
  {
   "cell_type": "code",
   "execution_count": null,
   "metadata": {},
   "outputs": [],
   "source": [
    "cterm_pblocks = pblocks[~pblocks['cterm'].isna() & (pblocks['nterm'].isna()) & (pblocks['cterm'] != \"ALTERNATIVE_ORF\") & (pblocks['cterm'] != \"UNKNOWN\")].copy()\n",
    "cterm_pblocks['cterm'] = cterm_pblocks['cterm'].map(CTERM_CLASSES).astype('category')\n",
    "# Changed string to set for intersection\n",
    "cterm_pblocks['APA'] = cterm_pblocks['events'].apply(lambda x: set(x).intersection('BbPp')).astype(bool)\n"
   ]
  },
  {
   "cell_type": "code",
   "execution_count": null,
   "metadata": {},
   "outputs": [],
   "source": [
    "print(cterm_pblocks['cterm'].value_counts())"
   ]
  },
  {
   "cell_type": "code",
   "execution_count": null,
   "metadata": {},
   "outputs": [],
   "source": [
    "cterm_pblock_events = cterm_pblocks['up_stop_events'].combine(cterm_pblocks['down_stop_events'], lambda x, y: (x, y))\n",
    "single_ATE = (cterm_pblocks['cterm'] == 'Splice-driven') & cterm_pblocks['tblock_events'].isin({('B', 'b'), ('b', 'B')})\n",
    "cterm_splice_subcats = pd.DataFrame(\n",
    "    {\n",
    "        'Exon extension introduces termination': cterm_pblocks['up_stop_events'].isin({'P', 'I', 'D'}),\n",
    "        'Alternative terminal exon(s)': cterm_pblock_events.isin({('B', 'b'), ('b', 'B')}),\n",
    "        'Poison exon inclusion': cterm_pblocks['up_stop_events'] == 'E',\n",
    "        'Other': [True for _ in cterm_pblocks.index]\n",
    "    }\n",
    ")\n",
    "cterm_pblocks['splice_subcat'] = cterm_splice_subcats.idxmax(axis=1).astype(pd.CategoricalDtype(cterm_splice_subcats.columns, ordered=True))\n"
   ]
  },
  {
   "cell_type": "code",
   "execution_count": null,
   "metadata": {},
   "outputs": [],
   "source": [
    "cterm_pblocks['splice_subcat'].value_counts()"
   ]
  },
  {
   "cell_type": "markdown",
   "metadata": {},
   "source": [
    "## Comparison of altered protein regions from GENCODE and predicted ORFs in a WTC11 experimental transcriptome\n",
    "\n",
    "#### Protein sequence region differences across  WTC-11 PacBio data\n",
    "\n",
    "Change input data in `plot_configure.py` to `../B_hybrid_aln_wtc11_v42/pblocks.tsv` and restart the kernel"
   ]
  },
  {
   "cell_type": "code",
   "execution_count": 1,
   "metadata": {},
   "outputs": [],
   "source": [
    "from plot_config import pblocks, NTERM_CLASSES, NTERM_COLORS, CTERM_CLASSES"
   ]
  },
  {
   "cell_type": "code",
   "execution_count": 24,
   "metadata": {},
   "outputs": [
    {
     "name": "stdout",
     "output_type": "stream",
     "text": [
      "44962\n"
     ]
    }
   ],
   "source": [
    "# Reference-alternative protein isoform pairs in database\n",
    "ref_alt_pair_unique = pblocks[['anchor','other']].drop_duplicates()\n",
    "print(len((ref_alt_pair_unique)))\n",
    "\n",
    "# Number of genes\n",
    "# Value obtained from SQLite db = 20202"
   ]
  },
  {
   "cell_type": "code",
   "execution_count": 25,
   "metadata": {},
   "outputs": [
    {
     "name": "stdout",
     "output_type": "stream",
     "text": [
      "53915\n",
      "1.1991237044615453\n",
      "37307\n",
      "44962\n",
      "7655\n",
      "length    121.0\n",
      "dtype: float64\n",
      "             length\n",
      "count  53915.000000\n",
      "mean     265.842511\n",
      "std      407.249326\n",
      "min        1.000000\n",
      "25%       37.000000\n",
      "50%      121.000000\n",
      "75%      351.000000\n",
      "max     7593.000000\n"
     ]
    },
    {
     "name": "stderr",
     "output_type": "stream",
     "text": [
      "/var/folders/yj/q7ccjqsx2rg2czn92rx0_8sc0000gn/T/ipykernel_83181/2711351022.py:34: FutureWarning: Dropping of nuisance columns in DataFrame reductions (with 'numeric_only=None') is deprecated; in a future version this will raise TypeError.  Select only valid columns before calling the reduction.\n",
      "  print(data.median())\n"
     ]
    },
    {
     "data": {
      "text/plain": [
       "SUBSTITUTION    31532\n",
       "DELETION        17716\n",
       "INSERTION        4667\n",
       "Name: pblock_category, dtype: int64"
      ]
     },
     "execution_count": 25,
     "metadata": {},
     "output_type": "execute_result"
    }
   ],
   "source": [
    "# Total altered protein regions\n",
    "apr = len(pblocks)\n",
    "print(apr)\n",
    "\n",
    "# Average altered regions per isoform\n",
    "avg = (apr/len(ref_alt_pair_unique))\n",
    "print(avg)\n",
    "\n",
    "# Isoform pairs contain a single altered region\n",
    "print((pblocks.groupby(['anchor', 'other']).size() == 1).sum())\n",
    "\n",
    "# Total number of isoform pairs\n",
    "print(len((pblocks.groupby(['anchor', 'other']))))\n",
    "\n",
    "# alternative isoforms contain two or more distinct regions\n",
    "print((pblocks.groupby(['anchor', 'other']).size() > 1).sum())\n",
    "\n",
    "# isoform pairs exhibited an extreme number of distinct altered regions\n",
    "result = pblocks.groupby(['anchor', 'other']).size()\n",
    "for name, group in result.items():\n",
    "    if group > 10:\n",
    "        print(name[0])\n",
    "\n",
    "# The median number of affected amino acids\n",
    "\n",
    "aa_loss = pblocks[pblocks['pblock_category'].isin({'DELETION', 'SUBSTITUTION'})].reset_index()[['pblock_category', 'aa_loss']]\n",
    "aa_loss['pblock_category'].replace('SUBSTITUTION', 'SUBSTITUTION (reference)', inplace=True)\n",
    "aa_loss.rename(columns={'aa_loss': 'length'}, inplace=True)\n",
    "aa_gain = pblocks[pblocks['pblock_category'].isin({'INSERTION', 'SUBSTITUTION'})].reset_index()[['pblock_category', 'aa_gain']]\n",
    "aa_gain['pblock_category'].replace('SUBSTITUTION', 'SUBSTITUTION (alternative)', inplace=True)\n",
    "aa_gain.rename(columns={'aa_gain': 'length'}, inplace=True)\n",
    "affected_lengths = pd.concat([aa_loss, aa_gain])\n",
    "data = affected_lengths[affected_lengths['pblock_category'] != 'SUBSTITUTION (alternative)']\n",
    "print(data.median())\n",
    "\n",
    "# the first and third quartiles \n",
    "print(data.describe())\n",
    "\n",
    "# Insertions, substituions and deletions altered protein region count\n",
    "pblocks['pblock_category'].value_counts()"
   ]
  },
  {
   "cell_type": "code",
   "execution_count": 26,
   "metadata": {},
   "outputs": [
    {
     "name": "stdout",
     "output_type": "stream",
     "text": [
      "          anchor             other  pblock_number pblock_category  \\\n",
      "0       AAAS-201    AAAS|PB.9747.1              0        DELETION   \n",
      "1       AAAS-201    AAAS|PB.9747.2              0        DELETION   \n",
      "2       AAAS-201    AAAS|PB.9747.3              0        DELETION   \n",
      "3       AAAS-201    AAAS|PB.9747.3              1    SUBSTITUTION   \n",
      "4       AAAS-201    AAAS|PB.9747.4              0    SUBSTITUTION   \n",
      "...          ...               ...            ...             ...   \n",
      "53910    ZYX-201     ZYX|PB.6586.8              0    SUBSTITUTION   \n",
      "53911    ZYX-201     ZYX|PB.6586.9              0    SUBSTITUTION   \n",
      "53912  ZZEF1-201  ZZEF1|PB.12314.1              0       INSERTION   \n",
      "53913   ZZZ3-202    ZZZ3|PB.677.12              0        DELETION   \n",
      "53914   ZZZ3-202     ZZZ3|PB.677.2              0    SUBSTITUTION   \n",
      "\n",
      "       pblock_anchor_start  pblock_anchor_stop  pblock_other_start  \\\n",
      "0                      148                 182                 148   \n",
      "1                      489                 540                 489   \n",
      "2                        0                 317                   0   \n",
      "3                      472                 547                 155   \n",
      "4                      443                 547                 443   \n",
      "...                    ...                 ...                 ...   \n",
      "53910                  538                 573                 538   \n",
      "53911                   69                 573                  69   \n",
      "53912                  882                 882                 882   \n",
      "53913                    0                 620                   0   \n",
      "53914                    0                 904                   0   \n",
      "\n",
      "       pblock_other_stop  aa_loss  aa_gain  ...  internal  \\\n",
      "0                    149       34        1  ...      True   \n",
      "1                    490       51        1  ...      True   \n",
      "2                      0      317        0  ...     False   \n",
      "3                    173       75       18  ...     False   \n",
      "4                    445      104        2  ...     False   \n",
      "...                  ...      ...      ...  ...       ...   \n",
      "53910                575       35       37  ...     False   \n",
      "53911                111      504       42  ...     False   \n",
      "53912                883        0        1  ...      True   \n",
      "53913                  0      620        0  ...     False   \n",
      "53914                 20      904       20  ...     False   \n",
      "\n",
      "                                                 cblocks  \\\n",
      "0                                   ('EDGE', 'DELETION')   \n",
      "1                                   ('EDGE', 'DELETION')   \n",
      "2                           ('DELETION', 'UNTRANSLATED')   \n",
      "3             ('DELETION', 'FRAME_BEHIND', 'TRANSLATED')   \n",
      "4                  ('EDGE', 'INSERTION', 'UNTRANSLATED')   \n",
      "...                                                  ...   \n",
      "53910                      ('INSERTION', 'UNTRANSLATED')   \n",
      "53911  ('INSERTION', 'COMPLEX', 'FRAME_AHEAD', 'DELET...   \n",
      "53912                                     ('INSERTION',)   \n",
      "53913  ('DELETION', 'UNTRANSLATED', 'DELETION', 'UNTR...   \n",
      "53914  ('TRANSLATED', 'UNTRANSLATED', 'DELETION', 'UN...   \n",
      "\n",
      "                         tblocks   tblock_events                      events  \\\n",
      "0                  ('DELETION',)          ('e',)            frozenset({'e'})   \n",
      "1                  ('DELETION',)          ('i',)            frozenset({'i'})   \n",
      "2                  ('DELETION',)          ('d',)            frozenset({'d'})   \n",
      "3                  ('DELETION',)          ('a',)            frozenset({'a'})   \n",
      "4                 ('INSERTION',)          ('I',)            frozenset({'I'})   \n",
      "...                          ...             ...                         ...   \n",
      "53910             ('INSERTION',)          ('I',)            frozenset({'I'})   \n",
      "53911  ('INSERTION', 'DELETION')      ('D', 'i')       frozenset({'D', 'i'})   \n",
      "53912             ('INSERTION',)          ('A',)            frozenset({'A'})   \n",
      "53913              ('DELETION',)  ('beeee', 'a')  frozenset({'a', 'e', 'b'})   \n",
      "53914              ('DELETION',)          ('a',)            frozenset({'a'})   \n",
      "\n",
      "      compound_splicing frameshift split_codons  \\\n",
      "0                 False      False         True   \n",
      "1                 False      False         True   \n",
      "2                 False      False        False   \n",
      "3                 False       True        False   \n",
      "4                 False      False         True   \n",
      "...                 ...        ...          ...   \n",
      "53910             False      False        False   \n",
      "53911             False       True         True   \n",
      "53912             False      False        False   \n",
      "53913              True      False        False   \n",
      "53914             False      False        False   \n",
      "\n",
      "                                              anchor_seq  \\\n",
      "0                     WSSCCLRVFAWHPHTNKFAVALLDDSVRVYNASS   \n",
      "1      QFPRFSPVLGRAQEPPAGGGGSIHDLPLFTETSPTSAPWDPLPGPP...   \n",
      "2      MCSLGLFPPPPPRGQVTLYEHNNELVTGSSYESPPPDFRGQWINLP...   \n",
      "3      GWSTGRIAHIPLYFVNAQFPRFSPVLGRAQEPPAGGGGSIHDLPLF...   \n",
      "4      CGIIQGEPGAQPQLITFHPSFNKGALLSVGWSTGRIAHIPLYFVNA...   \n",
      "...                                                  ...   \n",
      "53910                DCGKPLSIEADDNGCFPLDGHVLCRKCHTARAQT*   \n",
      "53911  DFPLPPPPLAGDGDDAEGALGGAFPPPPPPIEESFPPAPLEEEIFP...   \n",
      "53912                                                NaN   \n",
      "53913  MAASRSTRVTRSTVGLNGLDESFCGRTLRNRSIAHPEEISSNSQVR...   \n",
      "53914  MAASRSTRVTRSTVGLNGLDESFCGRTLRNRSIAHPEEISSNSQVR...   \n",
      "\n",
      "                                        other_seq  \n",
      "0                                               C  \n",
      "1                                               H  \n",
      "2                                             NaN  \n",
      "3                              GHHLFCPTPHIPTSKNK*  \n",
      "4                                              W*  \n",
      "...                                           ...  \n",
      "53910       VSHPSGLLGQVLTRRWREMLLTNWEVESTSIQETGL*  \n",
      "53911  GMRRGLSPASTSPCWGWRRCRGCSGRCLPAAPSPDRGIISP*  \n",
      "53912                                           K  \n",
      "53913                                         NaN  \n",
      "53914                        MIDLWLYRFPNEWIMMTVL*  \n",
      "\n",
      "[53915 rows x 38 columns]\n"
     ]
    }
   ],
   "source": [
    "print(pblocks)"
   ]
  }
 ],
 "metadata": {
  "kernelspec": {
   "display_name": "Python 3 (ipykernel)",
   "language": "python",
   "name": "python3"
  },
  "language_info": {
   "codemirror_mode": {
    "name": "ipython",
    "version": 3
   },
   "file_extension": ".py",
   "mimetype": "text/x-python",
   "name": "python",
   "nbconvert_exporter": "python",
   "pygments_lexer": "ipython3",
   "version": "3.10.9"
  },
  "vscode": {
   "interpreter": {
    "hash": "949777d72b0d2535278d3dc13498b2535136f6dfe0678499012e853ee9abcab1"
   }
  }
 },
 "nbformat": 4,
 "nbformat_minor": 2
}
